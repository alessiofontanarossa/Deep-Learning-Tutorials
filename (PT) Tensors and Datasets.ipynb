{
 "cells": [
  {
   "cell_type": "markdown",
   "id": "1b2a3576",
   "metadata": {},
   "source": [
    "##### Libraries"
   ]
  },
  {
   "cell_type": "code",
   "execution_count": 1,
   "id": "5ae20afc",
   "metadata": {},
   "outputs": [],
   "source": [
    "                                    ########### VISUALIZATION TOOLS ###########\n",
    "\n",
    "%matplotlib inline\n",
    "import matplotlib.pyplot as plt                  # basic plotting\n",
    "import matplotlib.ticker as mtick                 # axis tick formatting\n",
    "from matplotlib import colormaps as cm            # colormaps\n",
    "import matplotlib.patches as mpatches             # patch shapes\n",
    "from matplotlib.patches import Patch              # patch base class\n",
    "\n",
    "import seaborn as sns                             # statistical data visualization\n",
    "import warnings                                   # warning control\n",
    "warnings.filterwarnings(\"ignore\", category=UserWarning)  # ignore seaborn UserWarnings\n",
    "\n",
    "import plotly.express as px                       # interactive plots (express interface)\n",
    "import plotly.graph_objects as go                  # interactive plots (graph objects)\n",
    "\n",
    "import folium                                    # interactive maps\n",
    "from folium import plugins                        # folium plugins\n",
    "from folium import Choropleth                      # choropleth maps\n",
    "\n",
    "from IPython.display import display, IFrame, HTML  # display rich content in notebooks\n",
    "from IPython import display as ipythondisplay\n",
    "\n",
    "from tqdm.notebook import tqdm                    # progress bars for notebook loops\n",
    "\n",
    "import wordcloud                                 # word cloud visualization\n",
    "from wordcloud import WordCloud, STOPWORDS        # word cloud generator and stopwords\n",
    "\n",
    "                                    ########### VECTORS AND MATRICES ###########\n",
    "\n",
    "import numpy as np                               # numerical arrays and matrix operations\n",
    "import pandas as pd                              # data manipulation and analysis\n",
    "\n",
    "                                    ########### SCIPY ###########\n",
    "\n",
    "from scipy import stats                           # statistical functions\n",
    "\n",
    "                                    ########### SCIKIT-LEARN ###########\n",
    "\n",
    "from sklearn.preprocessing import (\n",
    "    StandardScaler,      # z-score normalization\n",
    "    normalize,           # row-wise normalization\n",
    "    PolynomialFeatures,  # polynomial regression features\n",
    "    OneHotEncoder,       # one-hot encoding categorical features\n",
    "    LabelEncoder,        # label encoding for target\n",
    "    label_binarize       # multi-label one-hot encoding\n",
    ")\n",
    "\n",
    "from sklearn.linear_model import (\n",
    "    LinearRegression,    # ordinary least squares regression\n",
    "    Ridge,               # ridge regression (L2 regularization)\n",
    "    Lasso,               # lasso regression (L1 regularization)\n",
    "    LogisticRegression   # logistic regression for classification\n",
    ")\n",
    "\n",
    "from sklearn.tree import (\n",
    "    DecisionTreeClassifier,  # classification trees\n",
    "    DecisionTreeRegressor,   # regression trees\n",
    "    plot_tree                # visualize decision trees\n",
    ")\n",
    "\n",
    "from sklearn.svm import (\n",
    "    LinearSVC,  # linear support vector classifier\n",
    "    SVC         # kernelized SVM classifier\n",
    ")\n",
    "\n",
    "from sklearn.neighbors import KNeighborsClassifier  # k-nearest neighbors\n",
    "\n",
    "from sklearn.cluster import KMeans               # k-means clustering\n",
    "\n",
    "from sklearn.ensemble import (\n",
    "    RandomForestRegressor,    # ensemble regression method\n",
    "    RandomForestClassifier    # ensemble classification method\n",
    ")\n",
    "\n",
    "from sklearn.metrics import (\n",
    "    mean_squared_error,      # MSE regression metric\n",
    "    r2_score,               # R-squared metric\n",
    "    log_loss,               # cross-entropy loss\n",
    "    mean_absolute_error,    # MAE metric\n",
    "    root_mean_squared_error,# RMSE metric\n",
    "    confusion_matrix,       # confusion matrix\n",
    "    ConfusionMatrixDisplay, # plot confusion matrix\n",
    "    accuracy_score,         # classification accuracy\n",
    "    roc_auc_score,          # ROC AUC metric\n",
    "    classification_report,  # detailed classification metrics report\n",
    "    silhouette_score, silhouette_samples, davies_bouldin_score,  # clustering quality metrics\n",
    "    explained_variance_score # explained variance regression metric\n",
    ")\n",
    "\n",
    "from sklearn.pipeline import Pipeline           # pipeline for chaining transforms and estimators\n",
    "\n",
    "from sklearn.model_selection import (\n",
    "    train_test_split,       # split data into train/test sets\n",
    "    cross_val_score,        # k-fold cross-validation scores\n",
    "    cross_val_predict,      # k-fold cross-validation predictions\n",
    "    StratifiedKFold,        # stratified k-fold cross-validation\n",
    "    GridSearchCV            # grid search hyperparameter tuning\n",
    ")\n",
    "\n",
    "from sklearn.multiclass import OneVsOneClassifier  # multiclass classification using binary classifiers\n",
    "\n",
    "from sklearn.utils.class_weight import compute_sample_weight  # compute sample weights for imbalanced data\n",
    "\n",
    "from sklearn.decomposition import PCA              # principal component analysis\n",
    "\n",
    "from sklearn.compose import ColumnTransformer       # apply different transformations to columns\n",
    "\n",
    "from sklearn.impute import SimpleImputer             # missing value imputation\n",
    "\n",
    "#from umap.umap_ import UMAP                          # UMAP dimensionality reduction (commented out)\n",
    "\n",
    "from sklearn.manifold import TSNE                     # t-SNE dimensionality reduction\n",
    "\n",
    "from sklearn.datasets import (\n",
    "    make_blobs,              # synthetic cluster dataset generator\n",
    "    make_classification,     # synthetic classification dataset generator\n",
    "    load_diabetes,           # diabetes dataset\n",
    "    load_breast_cancer,      # breast cancer dataset\n",
    "    load_iris,               # iris dataset\n",
    "    fetch_california_housing # california housing dataset\n",
    ")\n",
    "diabetes = load_diabetes()\n",
    "cancers = load_breast_cancer()\n",
    "iris = load_iris()\n",
    "cal_housing = fetch_california_housing()\n",
    "\n",
    "                                    ########### ENSEMBLE METHODS ###########\n",
    "\n",
    "from xgboost import XGBRegressor                   # extreme gradient boosting regressor\n",
    "\n",
    "                                    ########### PYTORCH ###########\n",
    "\n",
    "import torch                                        # core PyTorch\n",
    "from torch import nn                               # neural network modules\n",
    "from torch import optim                            # optimizers\n",
    "import torch.nn.functional as functional           # functional interface for NN ops\n",
    "from torch.utils.data import Dataset, DataLoader, random_split  # data utilities\n",
    "from torchvision.utils import make_grid             # visualize image grids\n",
    "import torchvision                                  # computer vision models and datasets\n",
    "import torchvision.transforms as transforms         # image transforms pipeline\n",
    "from torchvision import datasets                     # image datasets\n",
    "from torch.utils.data import Subset                  # subset of datasets\n",
    "import torchvision.models as models                  # pretrained models\n",
    "\n",
    "import albumentations as albuments                   # advanced data augmentation\n",
    "\n",
    "from torchsummary import summary                     # model summary\n",
    "\n",
    "import timm                                         # PyTorch Image Models (SOTA model zoo)\n",
    "\n",
    "                                    ########### IMAGES ###########\n",
    "\n",
    "import os                                           # filesystem operations\n",
    "from PIL import Image, ImageFile                     # image loading and processing\n",
    "\n",
    "from copy import copy                                # shallow copy\n",
    "import operator                                     # functional tools for operators\n",
    "import sys                                          # system-specific parameters and functions\n",
    "\n",
    "import cv2                                          # OpenCV for image processing\n",
    "\n",
    "                                    ########### SCRAPING ###########\n",
    "\n",
    "import urllib                                        # URL handling\n",
    "import requests                                     # HTTP requests\n",
    "import io                                           # streams and bytes IO\n",
    "from io import StringIO                             # string stream for IO\n",
    "\n",
    "from bs4 import BeautifulSoup                        # HTML/XML parsing\n",
    "\n",
    "import json                                         # JSON parsing\n",
    "import xml.etree.ElementTree as ET                   # XML parsing\n",
    "\n",
    "                                    ########### MISC ###########\n",
    "                                    \n",
    "import gymnasium                                    # reinforcement learning environments\n",
    "from gymnasium.wrappers import RecordVideo          # video recording wrapper for gymnasium envs\n",
    "\n",
    "import glob                                         # Unix style pathname pattern expansion\n",
    "import base64                                       # base64 encoding/decoding\n",
    "\n",
    "import random                                       # random number generators\n",
    "import time                                         # time-related functions\n",
    "import datetime                                     # date and time functions\n",
    "\n",
    "import re                                           # regular expressions\n",
    "import unicodedata                                  # Unicode character database\n",
    "\n",
    "import shutil                                       # high-level file operations\n",
    "from pathlib import Path                            # filesystem path manipulations\n",
    "\n",
    "from collections import namedtuple, deque          # advanced data structures\n"
   ]
  },
  {
   "cell_type": "markdown",
   "id": "243dbf42",
   "metadata": {},
   "source": [
    "# Tensors"
   ]
  },
  {
   "cell_type": "code",
   "execution_count": null,
   "id": "81763cc6",
   "metadata": {},
   "outputs": [],
   "source": [
    "def plotVec(vectors):\n",
    "    ax = plt.axes()\n",
    "    \n",
    "    # For loop to draw the vectors\n",
    "    for vec in vectors:\n",
    "        ax.arrow(0, 0, *vec[\"vector\"], head_width = 0.05, color = vec[\"color\"], head_length = 0.1)\n",
    "        plt.text(*(vec[\"vector\"] + 0.1), vec[\"name\"])\n",
    "    \n",
    "    plt.ylim(-2,2)\n",
    "    plt.xlim(-2,2)\n",
    "    plt.show()"
   ]
  },
  {
   "cell_type": "markdown",
   "id": "1b2c1f0e",
   "metadata": {},
   "source": [
    "## 1D tensors"
   ]
  },
  {
   "cell_type": "markdown",
   "id": "eb53acce",
   "metadata": {},
   "source": [
    "### Types, size, reshape, list - Pandas - Numpy - Torch, slicing"
   ]
  },
  {
   "cell_type": "markdown",
   "id": "fcfe41fc",
   "metadata": {},
   "source": [
    "Basic torch tensor types:"
   ]
  },
  {
   "cell_type": "code",
   "execution_count": 48,
   "id": "8dd6e796",
   "metadata": {},
   "outputs": [
    {
     "data": {
      "text/plain": [
       "'torch.FloatTensor'"
      ]
     },
     "execution_count": 48,
     "metadata": {},
     "output_type": "execute_result"
    }
   ],
   "source": [
    "list_integers = [0, 1, 2, 3, 4]\n",
    "list_floats = [0.0, 1.0, 2.0, 3.0, 4.0]\n",
    "\n",
    "ints_to_tensor = torch.tensor(list_integers)\n",
    "floats_to_tensor = torch.tensor(list_floats)\n",
    "floats_int_tensor = torch.tensor(list_floats, dtype = torch.int64) # from floats to integers\n",
    "int_floats_tensor = torch.tensor(list_floats, dtype = torch.float32) # from integers to floats\n",
    "# int_floats_tensor = torch.FloatTensor(list_integers) # equivalent to the previous line\n",
    "\n",
    "ints_to_tensor.dtype # torch.int64 --> type of the entries\n",
    "ints_to_tensor.type() # torch.LongTensor --> torch type\n",
    "type(ints_to_tensor) # torch.Tensor --> Python type\n",
    "\n",
    "floats_to_tensor.dtype # torch.float32\n",
    "floats_to_tensor.type() # torch.FloatTensor\n",
    "type(ints_to_tensor) # torch.Tensor --> Python type\n",
    "\n",
    "floats_int_tensor.dtype # torch.int64 \n",
    "floats_int_tensor.type() # torch.LongTensor\n",
    "type(floats_int_tensor) # torch.Tensor\n",
    "\n",
    "int_floats_tensor.dtype # torch.float32\n",
    "int_floats_tensor.type() # torch.FloatTensor"
   ]
  },
  {
   "cell_type": "markdown",
   "id": "846b89d0",
   "metadata": {},
   "source": [
    "Size of a tensors:"
   ]
  },
  {
   "cell_type": "code",
   "execution_count": null,
   "id": "c6c76f33",
   "metadata": {},
   "outputs": [
    {
     "data": {
      "text/plain": [
       "5"
      ]
     },
     "execution_count": 102,
     "metadata": {},
     "output_type": "execute_result"
    }
   ],
   "source": [
    "ints_to_tensor.size() # torch.Size([5])\n",
    "ints_to_tensor.shape # torch.Size([5])\n",
    "ints_to_tensor.ndimension() # 1 (1D tensor)\n",
    "ints_to_tensor.numel() # 5"
   ]
  },
  {
   "cell_type": "markdown",
   "id": "9add2a0e",
   "metadata": {},
   "source": [
    "Reshaping a tensor. The `x.view(-1,1)` is equivalent to `x.view(x.numel(),1)`, so that it is done automatically:"
   ]
  },
  {
   "cell_type": "code",
   "execution_count": 39,
   "id": "d7f603dc",
   "metadata": {},
   "outputs": [
    {
     "data": {
      "text/plain": [
       "tensor([[0],\n",
       "        [1],\n",
       "        [2],\n",
       "        [3],\n",
       "        [4]])"
      ]
     },
     "execution_count": 39,
     "metadata": {},
     "output_type": "execute_result"
    }
   ],
   "source": [
    "ints_to_tensor.view(5,1) # size --> torch.Size([5, 1])\n",
    "\n",
    "ints_to_tensor.view(-1,1) # size --> torch.Size([5, 1])"
   ]
  },
  {
   "cell_type": "markdown",
   "id": "98c2b5e2",
   "metadata": {},
   "source": [
    "List <--> Torch tensors and numbers:"
   ]
  },
  {
   "cell_type": "code",
   "execution_count": null,
   "id": "aca1e827",
   "metadata": {},
   "outputs": [
    {
     "data": {
      "text/plain": [
       "3.0"
      ]
     },
     "execution_count": 57,
     "metadata": {},
     "output_type": "execute_result"
    }
   ],
   "source": [
    "list_floats = [0.0, 1.0, 2.0, 3.0, 4.0]\n",
    "floats_to_tensor = torch.tensor(list_floats)\n",
    "list_floats_again = floats_to_tensor.tolist()\n",
    "list_floats_again == list_floats # True\n",
    "\n",
    "floats_to_tensor[3].item() # Python number"
   ]
  },
  {
   "cell_type": "markdown",
   "id": "8b00b731",
   "metadata": {},
   "source": [
    "Torch tensor <--> Numpy(<--> Pandas):"
   ]
  },
  {
   "cell_type": "code",
   "execution_count": null,
   "id": "262f7efa",
   "metadata": {},
   "outputs": [
    {
     "data": {
      "text/plain": [
       "array([ True,  True,  True,  True])"
      ]
     },
     "execution_count": 54,
     "metadata": {},
     "output_type": "execute_result"
    }
   ],
   "source": [
    "pandas_series = pd.Series([0.1, 2, 0.3, 10.1])\n",
    "numpy_array = np.array(pandas_series.values)\n",
    "torch_tensor1D = torch.from_numpy(numpy_array) # torch.Size([5])\n",
    "numpy_array_again = torch_tensor1D.numpy()\n",
    "numpy_array_again == numpy_array # array([ True,  True,  True,  True])"
   ]
  },
  {
   "cell_type": "markdown",
   "id": "1557d5d7",
   "metadata": {},
   "source": [
    "Change one value and slicing:"
   ]
  },
  {
   "cell_type": "code",
   "execution_count": 66,
   "id": "bbd89d81",
   "metadata": {},
   "outputs": [
    {
     "data": {
      "text/plain": [
       "tensor([1, 3])"
      ]
     },
     "execution_count": 66,
     "metadata": {},
     "output_type": "execute_result"
    }
   ],
   "source": [
    "tensor_sample = torch.tensor([20, 1, 2, 3, 4])\n",
    "tensor_sample[0] = 100\n",
    "tensor_sample # tensor([100,   1,   2,   3,   4])\n",
    "\n",
    "tensor_sample[1:4] #tensor([1, 2, 3])\n",
    "\n",
    "tensor_sample[[1,3]] #tensor([1, 3])"
   ]
  },
  {
   "cell_type": "markdown",
   "id": "3d764494",
   "metadata": {},
   "source": [
    "### Functions"
   ]
  },
  {
   "cell_type": "code",
   "execution_count": null,
   "id": "f36102b5",
   "metadata": {},
   "outputs": [
    {
     "data": {
      "text/plain": [
       "tensor([0.0000, 0.0635, 0.1269, 0.1904, 0.2539, 0.3173, 0.3808, 0.4443, 0.5077,\n",
       "        0.5712, 0.6347, 0.6981, 0.7616, 0.8251, 0.8885, 0.9520, 1.0155, 1.0789,\n",
       "        1.1424, 1.2059, 1.2693, 1.3328, 1.3963, 1.4597, 1.5232, 1.5867, 1.6501,\n",
       "        1.7136, 1.7771, 1.8405, 1.9040, 1.9675, 2.0309, 2.0944, 2.1579, 2.2213,\n",
       "        2.2848, 2.3483, 2.4117, 2.4752, 2.5387, 2.6021, 2.6656, 2.7291, 2.7925,\n",
       "        2.8560, 2.9195, 2.9829, 3.0464, 3.1099, 3.1733, 3.2368, 3.3003, 3.3637,\n",
       "        3.4272, 3.4907, 3.5541, 3.6176, 3.6811, 3.7445, 3.8080, 3.8715, 3.9349,\n",
       "        3.9984, 4.0619, 4.1253, 4.1888, 4.2523, 4.3157, 4.3792, 4.4427, 4.5061,\n",
       "        4.5696, 4.6331, 4.6965, 4.7600, 4.8235, 4.8869, 4.9504, 5.0139, 5.0773,\n",
       "        5.1408, 5.2043, 5.2677, 5.3312, 5.3947, 5.4581, 5.5216, 5.5851, 5.6485,\n",
       "        5.7120, 5.7755, 5.8389, 5.9024, 5.9659, 6.0293, 6.0928, 6.1563, 6.2197,\n",
       "        6.2832])"
      ]
     },
     "execution_count": 72,
     "metadata": {},
     "output_type": "execute_result"
    }
   ],
   "source": [
    "math_tensor = torch.tensor([1.0, -1.0, 1, -1])\n",
    "# Methods of tensor objects. Aggregate methods\n",
    "math_tensor.mean() \n",
    "math_tensor.std()\n",
    "math_tensor.max()\n",
    "math_tensor.min() # tensor(-1.)\n",
    "math_tensor.min().item() # -1.0\n",
    "# Functions of Torch. They enter on each entries:\n",
    "pi_tensor = torch.tensor([0, np.pi/2, np.pi])\n",
    "torch.sin(pi_tensor)\n",
    "torch.linspace(0, 2*np.pi, 100)"
   ]
  },
  {
   "cell_type": "markdown",
   "id": "3d1740f0",
   "metadata": {},
   "source": [
    "### Operations between tensors"
   ]
  },
  {
   "cell_type": "code",
   "execution_count": null,
   "id": "1ce1b0fb",
   "metadata": {},
   "outputs": [
    {
     "data": {
      "text/plain": [
       "tensor(True)"
      ]
     },
     "execution_count": 91,
     "metadata": {},
     "output_type": "execute_result"
    }
   ],
   "source": [
    "u = torch.tensor([83.0, 22.0])\n",
    "v = torch.tensor([16.0, 42.5])\n",
    "\n",
    "u+v\n",
    "u-v\n",
    "u+1\n",
    "2*u\n",
    "u * v # Element-wise Product/Hadamard Product\n",
    "u @ v == torch.dot(u,v) # DOT: this works only if u and v have the same type"
   ]
  },
  {
   "cell_type": "markdown",
   "id": "e24b897b",
   "metadata": {},
   "source": [
    "## 2D tensors"
   ]
  },
  {
   "cell_type": "markdown",
   "id": "ef25c819",
   "metadata": {},
   "source": [
    "### Size, reshape, Pandas - Numpy - Torch, slicing"
   ]
  },
  {
   "cell_type": "code",
   "execution_count": null,
   "id": "f3232573",
   "metadata": {},
   "outputs": [
    {
     "name": "stdout",
     "output_type": "stream",
     "text": [
      "The number of elements in twoD_tensor:  9\n"
     ]
    }
   ],
   "source": [
    "twoD_list = [[11, 12, 13], [21, 22, 23], [31, 32, 33]]\n",
    "twoD_tensor = torch.tensor(twoD_list, dtype = torch.float32)\n",
    "\n",
    "twoD_tensor.ndimension() # 2 --> 2D tensor\n",
    "twoD_tensor.size() == twoD_tensor.shape # torch.Size([3, 3])\n",
    "\n",
    "twoD_tensor.numel() # 9 = 3x3\n"
   ]
  },
  {
   "cell_type": "markdown",
   "id": "4d232816",
   "metadata": {},
   "source": [
    "Pandas <--> Numpy <--> Torch tensor:"
   ]
  },
  {
   "cell_type": "code",
   "execution_count": 107,
   "id": "7afe4700",
   "metadata": {},
   "outputs": [
    {
     "data": {
      "text/plain": [
       "tensor([[True, True],\n",
       "        [True, True],\n",
       "        [True, True]])"
      ]
     },
     "execution_count": 107,
     "metadata": {},
     "output_type": "execute_result"
    }
   ],
   "source": [
    "pd_tensor = pd.DataFrame({'a':[11,21,31],'b':[12,22,312]})\n",
    "\n",
    "torch_tensor = torch.from_numpy(pd_tensor.values)\n",
    "\n",
    "numpy_tensor = torch_tensor.numpy()\n",
    "\n",
    "torch_tensor_again = torch.from_numpy(numpy_tensor)\n",
    "\n",
    "torch_tensor_again == torch_tensor"
   ]
  },
  {
   "cell_type": "markdown",
   "id": "99cfedb1",
   "metadata": {},
   "source": [
    "Slicing:"
   ]
  },
  {
   "cell_type": "code",
   "execution_count": 110,
   "id": "f0eb0528",
   "metadata": {},
   "outputs": [
    {
     "name": "stdout",
     "output_type": "stream",
     "text": [
      "What is the value on 2nd-row 3rd-column?  tensor(23)\n",
      "What is the value on 2nd-row 3rd-column?  tensor(23)\n",
      "What is the value on 1st-row first two columns?  tensor([11, 12])\n",
      "What is the value on 1st-row first two columns?  tensor([11, 12])\n",
      "What is the value on 3rd-column last two rows?  tensor([23, 33])\n"
     ]
    }
   ],
   "source": [
    "tensor_example = torch.tensor([[11, 12, 13], [21, 22, 23], [31, 32, 33]])\n",
    "\n",
    "print(\"What is the value on 2nd-row 3rd-column? \", tensor_example[1, 2])\n",
    "print(\"What is the value on 2nd-row 3rd-column? \", tensor_example[1][2])\n",
    "\n",
    "print(\"What is the value on 1st-row first two columns? \", tensor_example[0, 0:2])\n",
    "print(\"What is the value on 1st-row first two columns? \", tensor_example[0][0:2])\n",
    "\n",
    "# Only thus is possible!!\n",
    "print(\"What is the value on 3rd-column last two rows? \", tensor_example[1:3, 2])\n"
   ]
  },
  {
   "cell_type": "markdown",
   "id": "5b7edb8e",
   "metadata": {},
   "source": [
    "### Functions"
   ]
  },
  {
   "cell_type": "code",
   "execution_count": null,
   "id": "87929732",
   "metadata": {},
   "outputs": [
    {
     "data": {
      "text/plain": [
       "array([ True,  True,  True])"
      ]
     },
     "execution_count": 142,
     "metadata": {},
     "output_type": "execute_result"
    }
   ],
   "source": [
    "tensor = torch.tensor([[11., 12., 13.],\n",
    "                    [21., 22., 23.],\n",
    "                    [31., 32., 33.],\n",
    "                    [41., 42., 43.]])\n",
    "tensor.sum()\n",
    "tensor.mean() == tensor.sum()/tensor.numel() # True\n",
    "\n",
    "tensor.mean(axis = 0) # mean on the column! so this has size torch.Size([3])\n",
    "tensor.mean(axis = 1) # mean on the rows! so this has size torch.Size([4])\n",
    "\n",
    "np.mean(tensor.numpy()) == tensor.mean().item() # True\n",
    "\n",
    "np.mean(tensor.numpy(), axis = 0) == tensor.mean(axis = 0).numpy() # True"
   ]
  },
  {
   "cell_type": "markdown",
   "id": "83994798",
   "metadata": {},
   "source": [
    "### Operations among tensors"
   ]
  },
  {
   "cell_type": "code",
   "execution_count": 146,
   "id": "63372307",
   "metadata": {},
   "outputs": [
    {
     "data": {
      "text/plain": [
       "tensor([[0, 2],\n",
       "        [0, 2]])"
      ]
     },
     "execution_count": 146,
     "metadata": {},
     "output_type": "execute_result"
    }
   ],
   "source": [
    "A = torch.tensor([[0, 1, 1], [1, 0, 1]])\n",
    "B = torch.tensor([[1, 1], [1, 1], [-1, 1]])\n",
    "\n",
    "torch.mm(A,B)"
   ]
  },
  {
   "cell_type": "markdown",
   "id": "cacccafb",
   "metadata": {},
   "source": [
    "## Across dimensions"
   ]
  },
  {
   "cell_type": "markdown",
   "id": "3acdc901",
   "metadata": {},
   "source": [
    "| Function                     | Description                                                 | Shape Example                      |\n",
    "|------------------------------|-------------------------------------------------------------|------------------------------------|\n",
    "| `squeeze(x)`                 | Removes **all** dimensions of size 1                        | `(1, 3, 1, 5)` → `(3, 5)`          |\n",
    "| `squeeze(x, dim=0)`          | Removes dimension 0 **only if its size is 1**              | `(1, 3, 1, 5)` → `(3, 1, 5)`       |\n",
    "| `squeeze(x, dim=2)`          | Removes dimension 2 **only if its size is 1**              | `(1, 3, 1, 5)` → `(1, 3, 5)`       |\n",
    "| `unsqueeze(x, dim=0)`        | Adds a new dimension of size 1 at position 0               | `(28, 28)` → `(1, 28, 28)`         |\n",
    "| `unsqueeze(x, dim=2)`        | Adds a new dimension of size 1 at position 2               | `(3, 28, 28)` → `(3, 28, 1, 28)`   |\n",
    "| `unsqueeze(x, dim=-1)`       | Adds a new dimension of size 1 at the last position        | `(3, 28)` → `(3, 28, 1)`           |\n",
    "| `x.reshape(...)`      | Reshapes tensor to `new_shape` if total elements match     | `(1,3,1,5)` → `reshape(-1, 15)` → `(1,15)` |\n",
    "| | |`(1,3,1,5)` → `reshpae(-1)` → `(15)` |\n",
    "| `x.view(...)`         | Same as reshape but requires contiguous tensor             | `(1,3,1,5)` → `view(-1,15)` → `(1,15)`     |\n",
    "| | |`(1,3,1,5)` → `view(-1)` → `(15)` |\n",
    "| | equivalent to `x.flatten()`|| |\n"
   ]
  },
  {
   "cell_type": "code",
   "execution_count": null,
   "id": "e13bf4df",
   "metadata": {},
   "outputs": [
    {
     "data": {
      "text/plain": [
       "tensor([[[True, True, True, True, True],\n",
       "         [True, True, True, True, True],\n",
       "         [True, True, True, True, True]]])"
      ]
     },
     "execution_count": 12,
     "metadata": {},
     "output_type": "execute_result"
    }
   ],
   "source": [
    "x = torch.randn(1, 3, 1, 5) # torch.Size([1, 3, 1, 5])\n",
    "\n",
    "torch.squeeze(x, dim = 2) == x.squeeze(dim = 2) #"
   ]
  },
  {
   "cell_type": "markdown",
   "id": "c1e31be7",
   "metadata": {},
   "source": [
    "# Differentiation"
   ]
  },
  {
   "cell_type": "markdown",
   "id": "69006511",
   "metadata": {},
   "source": [
    "**Torch tensor with `required_grad = True` to Numpy**: The method  `detach()` excludes further tracking of operations in the graph, and therefore the subgraph will not record operations. This allows us to then convert the tensor to a numpy array."
   ]
  },
  {
   "cell_type": "markdown",
   "id": "1a52a6d9",
   "metadata": {},
   "source": [
    "## Standard (one variable)"
   ]
  },
  {
   "cell_type": "code",
   "execution_count": 159,
   "id": "a969aeab",
   "metadata": {},
   "outputs": [
    {
     "data": {
      "text/plain": [
       "tensor(12.)"
      ]
     },
     "execution_count": 159,
     "metadata": {},
     "output_type": "execute_result"
    }
   ],
   "source": [
    "x = torch.tensor(2.0, requires_grad = True)\n",
    "y = x ** 3 # y.requires_grad --> True\n",
    "\n",
    "y.backward() # perform derivative\n",
    "\n",
    "x.grad # evaluate derivative at x --> tensor(12.)\n"
   ]
  },
  {
   "cell_type": "code",
   "execution_count": 161,
   "id": "7f77bc21",
   "metadata": {},
   "outputs": [
    {
     "name": "stdout",
     "output_type": "stream",
     "text": [
      "data: tensor(8.)\n",
      "grad_fn: <PowBackward0 object at 0x16009b670>\n",
      "grad: None\n",
      "is_leaf: False\n",
      "requires_grad: True\n"
     ]
    }
   ],
   "source": [
    "print('data:',y.data)\n",
    "print('grad_fn:',y.grad_fn)\n",
    "print('grad:',y.grad)\n",
    "print(\"is_leaf:\",y.is_leaf)\n",
    "print(\"requires_grad:\",y.requires_grad)"
   ]
  },
  {
   "cell_type": "code",
   "execution_count": 160,
   "id": "5415c3a0",
   "metadata": {},
   "outputs": [
    {
     "name": "stdout",
     "output_type": "stream",
     "text": [
      "data: tensor(2.)\n",
      "grad_fn: None\n",
      "grad: tensor(12.)\n",
      "is_leaf: True\n",
      "requires_grad: True\n"
     ]
    }
   ],
   "source": [
    "print('data:',x.data)\n",
    "print('grad_fn:',x.grad_fn)\n",
    "print('grad:',x.grad)\n",
    "print(\"is_leaf:\",x.is_leaf)\n",
    "print(\"requires_grad:\",x.requires_grad)"
   ]
  },
  {
   "cell_type": "markdown",
   "id": "2d956895",
   "metadata": {},
   "source": [
    "## Partial"
   ]
  },
  {
   "cell_type": "markdown",
   "id": "96124640",
   "metadata": {},
   "source": [
    "The following two methods are equivalent:"
   ]
  },
  {
   "cell_type": "markdown",
   "id": "a57623b3",
   "metadata": {},
   "source": [
    "1)"
   ]
  },
  {
   "cell_type": "code",
   "execution_count": null,
   "id": "350c46b7",
   "metadata": {},
   "outputs": [
    {
     "data": {
      "text/plain": [
       "tensor([4., 1.])"
      ]
     },
     "execution_count": 174,
     "metadata": {},
     "output_type": "execute_result"
    }
   ],
   "source": [
    "u = torch.tensor(1.0, requires_grad = True)\n",
    "v = torch.tensor(2.0, requires_grad = True)\n",
    "f = u * v + u ** 2\n",
    "\n",
    "f.backward()\n",
    "\n",
    "u.grad # derivative of f wrt to u, computed in (u,v)\n",
    "v.grad\n",
    "\n",
    "torch.tensor([u.grad ,v.grad\n",
    "])\n"
   ]
  },
  {
   "cell_type": "markdown",
   "id": "a1135269",
   "metadata": {},
   "source": [
    "2)"
   ]
  },
  {
   "cell_type": "code",
   "execution_count": 172,
   "id": "cb4c67eb",
   "metadata": {},
   "outputs": [
    {
     "data": {
      "text/plain": [
       "tensor([4., 1.])"
      ]
     },
     "execution_count": 172,
     "metadata": {},
     "output_type": "execute_result"
    }
   ],
   "source": [
    "x = torch.tensor([1.0, 2.0], requires_grad=True)\n",
    "f = x[0] * x[1] + x[0] ** 2\n",
    "f.backward()\n",
    "x.grad"
   ]
  },
  {
   "cell_type": "markdown",
   "id": "2760817d",
   "metadata": {},
   "source": [
    "In general:"
   ]
  },
  {
   "cell_type": "code",
   "execution_count": 8,
   "id": "d7d0764b",
   "metadata": {},
   "outputs": [
    {
     "data": {
      "image/png": "[encoded data removed]",
      "text/plain": [
       "<Figure size 640x480 with 1 Axes>"
      ]
     },
     "metadata": {},
     "output_type": "display_data"
    }
   ],
   "source": [
    "from torchviz import make_dot\n",
    "\n",
    "u = torch.tensor(2.0, requires_grad = True)\n",
    "v = torch.tensor(3.0, requires_grad = True)\n",
    "\n",
    "f = u*v+ v**2\n",
    "\n",
    "f # tensor([15.0], grad_fn=<AddBackward0>)\n",
    "\n",
    "f.retain_grad() \n",
    "\n",
    "f.backward()\n",
    "\n",
    "u.grad # tensor(3.)\n",
    "v.grad # tensor(8.)\n",
    "f.grad # tensor(1.)\n",
    "\n",
    "f.detach() # tensor(15.), WITHOUT REQUIRES_GRAD = TRUE\n",
    "\n",
    "dot = make_dot(f, params = {\"u\": u, \"v\": v, \"f\" : f})\n",
    "dot.render(\"grad_computation_graph\", format = \"png\")\n",
    "\n",
    "img = plt.imread(\"grad_computation_graph.png\")\n",
    "plt.imshow(img)\n",
    "plt.axis('off')\n",
    "plt.show()\n",
    "plt.close()\n"
   ]
  },
  {
   "cell_type": "markdown",
   "id": "efdc156c",
   "metadata": {},
   "source": [
    "# From CSV to a Dataset"
   ]
  },
  {
   "cell_type": "markdown",
   "id": "6afab35e",
   "metadata": {},
   "source": [
    "### CSV load and exploration"
   ]
  },
  {
   "cell_type": "code",
   "execution_count": 178,
   "id": "a5025c12",
   "metadata": {},
   "outputs": [
    {
     "name": "stdout",
     "output_type": "stream",
     "text": [
      "--2025-07-24 14:07:27--  https://cf-courses-data.s3.us.cloud-object-storage.appdomain.cloud/IBMDeveloperSkillsNetwork-DL0110EN-SkillsNetwork/labs/Week1/data/img.tar.gz\n",
      "Risoluzione di cf-courses-data.s3.us.cloud-object-storage.appdomain.cloud (cf-courses-data.s3.us.cloud-object-storage.appdomain.cloud)... 169.45.118.108\n",
      "Connessione a cf-courses-data.s3.us.cloud-object-storage.appdomain.cloud (cf-courses-data.s3.us.cloud-object-storage.appdomain.cloud)|169.45.118.108|:443... connesso.\n",
      "Richiesta HTTP inviata, in attesa di risposta... 200 OK\n",
      "Lunghezza: 50460 (49K) [application/x-tar]\n",
      "Salvataggio in: «img.tar.gz»\n",
      "\n",
      "img.tar.gz          100%[===================>]  49.28K   251KB/s    in 0.2s    \n",
      "\n",
      "2025-07-24 14:07:28 (251 KB/s) - «img.tar.gz» salvato [50460/50460]\n",
      "\n",
      "--2025-07-24 14:07:29--  https://cf-courses-data.s3.us.cloud-object-storage.appdomain.cloud/IBMDeveloperSkillsNetwork-DL0110EN-SkillsNetwork/labs/Week1/data/index.csv\n",
      "Risoluzione di cf-courses-data.s3.us.cloud-object-storage.appdomain.cloud (cf-courses-data.s3.us.cloud-object-storage.appdomain.cloud)... 169.45.118.108\n",
      "Connessione a cf-courses-data.s3.us.cloud-object-storage.appdomain.cloud (cf-courses-data.s3.us.cloud-object-storage.appdomain.cloud)|169.45.118.108|:443... connesso.\n",
      "Richiesta HTTP inviata, in attesa di risposta... 200 OK\n",
      "Lunghezza: 1680905 (1.6M) [text/csv]\n",
      "Salvataggio in: «index.csv»\n",
      "\n",
      "index.csv           100%[===================>]   1.60M  1.42MB/s    in 1.1s    \n",
      "\n",
      "2025-07-24 14:07:31 (1.42 MB/s) - «index.csv» salvato [1680905/1680905]\n",
      "\n"
     ]
    }
   ],
   "source": [
    "# Scarica il file nella directory corrente\n",
    "!wget https://cf-courses-data.s3.us.cloud-object-storage.appdomain.cloud/IBMDeveloperSkillsNetwork-DL0110EN-SkillsNetwork/labs/Week1/data/img.tar.gz\n",
    "# Estrai il contenuto nella directory corrente\n",
    "!tar -xf img.tar.gz\n",
    "# Scarica anche il file index.csv\n",
    "!wget https://cf-courses-data.s3.us.cloud-object-storage.appdomain.cloud/IBMDeveloperSkillsNetwork-DL0110EN-SkillsNetwork/labs/Week1/data/index.csv\n"
   ]
  },
  {
   "cell_type": "code",
   "execution_count": 185,
   "id": "32f51ca0",
   "metadata": {},
   "outputs": [
    {
     "data": {
      "text/html": [
       "<div>\n",
       "<style scoped>\n",
       "    .dataframe tbody tr th:only-of-type {\n",
       "        vertical-align: middle;\n",
       "    }\n",
       "\n",
       "    .dataframe tbody tr th {\n",
       "        vertical-align: top;\n",
       "    }\n",
       "\n",
       "    .dataframe thead th {\n",
       "        text-align: right;\n",
       "    }\n",
       "</style>\n",
       "<table border=\"1\" class=\"dataframe\">\n",
       "  <thead>\n",
       "    <tr style=\"text-align: right;\">\n",
       "      <th></th>\n",
       "      <th>category</th>\n",
       "      <th>image</th>\n",
       "    </tr>\n",
       "  </thead>\n",
       "  <tbody>\n",
       "    <tr>\n",
       "      <th>0</th>\n",
       "      <td>Ankle boot</td>\n",
       "      <td>img/fashion0.png</td>\n",
       "    </tr>\n",
       "    <tr>\n",
       "      <th>1</th>\n",
       "      <td>T-shirt</td>\n",
       "      <td>img/fashion1.png</td>\n",
       "    </tr>\n",
       "    <tr>\n",
       "      <th>2</th>\n",
       "      <td>T-shirt</td>\n",
       "      <td>img/fashion2.png</td>\n",
       "    </tr>\n",
       "    <tr>\n",
       "      <th>3</th>\n",
       "      <td>Dress</td>\n",
       "      <td>img/fashion3.png</td>\n",
       "    </tr>\n",
       "    <tr>\n",
       "      <th>4</th>\n",
       "      <td>T-shirt</td>\n",
       "      <td>img/fashion4.png</td>\n",
       "    </tr>\n",
       "  </tbody>\n",
       "</table>\n",
       "</div>"
      ],
      "text/plain": [
       "     category             image\n",
       "0  Ankle boot  img/fashion0.png\n",
       "1     T-shirt  img/fashion1.png\n",
       "2     T-shirt  img/fashion2.png\n",
       "3       Dress  img/fashion3.png\n",
       "4     T-shirt  img/fashion4.png"
      ]
     },
     "execution_count": 185,
     "metadata": {},
     "output_type": "execute_result"
    }
   ],
   "source": [
    "data_name = pd.read_csv(\"index.csv\")\n",
    "data_name.shape #(60000,2)\n",
    "data_name.head()"
   ]
  },
  {
   "cell_type": "code",
   "execution_count": 191,
   "id": "b7d0dda9",
   "metadata": {},
   "outputs": [
    {
     "data": {
      "image/png": "[encoded data removed]",
      "text/plain": [
       "<Figure size 640x480 with 1 Axes>"
      ]
     },
     "metadata": {},
     "output_type": "display_data"
    }
   ],
   "source": [
    "image_name = data_name.iloc[1, 1]\n",
    "image_path = os.path.join(\"\",image_name)\n",
    "image = Image.open(image_path)\n",
    "plt.imshow(image,cmap='gray', vmin=0, vmax=255)\n",
    "plt.title(data_name.iloc[1, 0])\n",
    "plt.show()\n"
   ]
  },
  {
   "cell_type": "markdown",
   "id": "dc762c44",
   "metadata": {},
   "source": [
    "### Dataset creation"
   ]
  },
  {
   "cell_type": "code",
   "execution_count": null,
   "id": "bb112b5f",
   "metadata": {},
   "outputs": [],
   "source": [
    "class Dataset(Dataset):\n",
    "\n",
    "    # Constructor\n",
    "    def __init__(self, csv_file, data_dir, transform = None):\n",
    "        \n",
    "        # Image directory\n",
    "        self.data_dir=data_dir\n",
    "        \n",
    "        # The transform is going to be used on image\n",
    "        self.transform = transform\n",
    "        data_dircsv_file = os.path.join(self.data_dir, csv_file)\n",
    "        # Load the CSV file contians image info\n",
    "        self.data_name = pd.read_csv(data_dircsv_file)\n",
    "        \n",
    "        # Shape of dataset\n",
    "        self.shape = self.data_name.shape \n",
    "        self.len = self.data_name.shape[0]\n",
    "    \n",
    "    # Get the length\n",
    "    def __len__(self):\n",
    "        return self.len\n",
    "    \n",
    "    # Get the shape\n",
    "    def __shape__(self):\n",
    "        return self.shape\n",
    "    \n",
    "    # Getter\n",
    "    def __getitem__(self, idx):\n",
    "        \n",
    "        # Image file path\n",
    "        img_name = os.path.join(self.data_dir,self.data_name.iloc[idx, 1])\n",
    "        # Open image file\n",
    "        image = Image.open(img_name)\n",
    "        \n",
    "        # The class label for the image\n",
    "        y = self.data_name.iloc[idx, 0]\n",
    "        \n",
    "        # If there is any transform method, apply it onto the image\n",
    "        if self.transform:\n",
    "            image = self.transform(image)\n",
    "\n",
    "        return image, y # this means that dataset[i][0] is the i-th image and dataset[i][1] is the i-th label"
   ]
  },
  {
   "cell_type": "code",
   "execution_count": 237,
   "id": "5a5ba273",
   "metadata": {},
   "outputs": [
    {
     "data": {
      "image/png": "[encoded data removed]",
      "text/plain": [
       "<Figure size 640x480 with 1 Axes>"
      ]
     },
     "metadata": {},
     "output_type": "display_data"
    }
   ],
   "source": [
    "fliptensor_data_transform = transforms.Compose([transforms.CenterCrop(35),\n",
    "                                                transforms.RandomVerticalFlip(p = 1),\n",
    "                                                transforms.ToTensor()]) # values in [0,1]\n",
    "\n",
    "dataset = Dataset(csv_file = \"index.csv\", data_dir = \"\", transform = fliptensor_data_transform)\n",
    "\n",
    "len(dataset) == dataset.len # 60000\n",
    "dataset.shape # (60000, 2)\n",
    "\n",
    "plt.imshow(dataset[0][0].squeeze(),cmap='gray', vmin=0, vmax=1)\n",
    "plt.title(f\"Given label: {dataset[0][1]}\")\n",
    "plt.show()\n",
    "plt.close()\n"
   ]
  },
  {
   "cell_type": "code",
   "execution_count": 35,
   "id": "9f50d727",
   "metadata": {},
   "outputs": [
    {
     "name": "stdout",
     "output_type": "stream",
     "text": [
      "Downloading http://yann.lecun.com/exdb/mnist/train-images-idx3-ubyte.gz\n",
      "Failed to download (trying next):\n",
      "HTTP Error 404: Not Found\n",
      "\n",
      "Downloading https://ossci-datasets.s3.amazonaws.com/mnist/train-images-idx3-ubyte.gz\n",
      "Downloading https://ossci-datasets.s3.amazonaws.com/mnist/train-images-idx3-ubyte.gz to ./mnist/MNIST/raw/train-images-idx3-ubyte.gz\n"
     ]
    },
    {
     "name": "stderr",
     "output_type": "stream",
     "text": [
      "100%|██████████| 9912422/9912422 [00:08<00:00, 1194953.26it/s]\n"
     ]
    },
    {
     "name": "stdout",
     "output_type": "stream",
     "text": [
      "Extracting ./mnist/MNIST/raw/train-images-idx3-ubyte.gz to ./mnist/MNIST/raw\n",
      "\n",
      "Downloading http://yann.lecun.com/exdb/mnist/train-labels-idx1-ubyte.gz\n",
      "Failed to download (trying next):\n",
      "HTTP Error 404: Not Found\n",
      "\n",
      "Downloading https://ossci-datasets.s3.amazonaws.com/mnist/train-labels-idx1-ubyte.gz\n",
      "Downloading https://ossci-datasets.s3.amazonaws.com/mnist/train-labels-idx1-ubyte.gz to ./mnist/MNIST/raw/train-labels-idx1-ubyte.gz\n"
     ]
    },
    {
     "name": "stderr",
     "output_type": "stream",
     "text": [
      "100%|██████████| 28881/28881 [00:00<00:00, 259119.88it/s]\n"
     ]
    },
    {
     "name": "stdout",
     "output_type": "stream",
     "text": [
      "Extracting ./mnist/MNIST/raw/train-labels-idx1-ubyte.gz to ./mnist/MNIST/raw\n",
      "\n",
      "Downloading http://yann.lecun.com/exdb/mnist/t10k-images-idx3-ubyte.gz\n",
      "Failed to download (trying next):\n",
      "HTTP Error 404: Not Found\n",
      "\n",
      "Downloading https://ossci-datasets.s3.amazonaws.com/mnist/t10k-images-idx3-ubyte.gz\n",
      "Downloading https://ossci-datasets.s3.amazonaws.com/mnist/t10k-images-idx3-ubyte.gz to ./mnist/MNIST/raw/t10k-images-idx3-ubyte.gz\n"
     ]
    },
    {
     "name": "stderr",
     "output_type": "stream",
     "text": [
      "100%|██████████| 1648877/1648877 [00:00<00:00, 2165508.51it/s]\n"
     ]
    },
    {
     "name": "stdout",
     "output_type": "stream",
     "text": [
      "Extracting ./mnist/MNIST/raw/t10k-images-idx3-ubyte.gz to ./mnist/MNIST/raw\n",
      "\n",
      "Downloading http://yann.lecun.com/exdb/mnist/t10k-labels-idx1-ubyte.gz\n",
      "Failed to download (trying next):\n",
      "HTTP Error 404: Not Found\n",
      "\n",
      "Downloading https://ossci-datasets.s3.amazonaws.com/mnist/t10k-labels-idx1-ubyte.gz\n",
      "Downloading https://ossci-datasets.s3.amazonaws.com/mnist/t10k-labels-idx1-ubyte.gz to ./mnist/MNIST/raw/t10k-labels-idx1-ubyte.gz\n"
     ]
    },
    {
     "name": "stderr",
     "output_type": "stream",
     "text": [
      "100%|██████████| 4542/4542 [00:00<00:00, 1552736.88it/s]"
     ]
    },
    {
     "name": "stdout",
     "output_type": "stream",
     "text": [
      "Extracting ./mnist/MNIST/raw/t10k-labels-idx1-ubyte.gz to ./mnist/MNIST/raw\n",
      "\n"
     ]
    },
    {
     "name": "stderr",
     "output_type": "stream",
     "text": [
      "\n"
     ]
    }
   ],
   "source": [
    "dataset = datasets.MNIST(\n",
    "    root = './mnist',  \n",
    "    download = True, \n",
    "    transform = transforms.ToTensor()\n",
    ")"
   ]
  },
  {
   "cell_type": "code",
   "execution_count": 36,
   "id": "36d01715",
   "metadata": {},
   "outputs": [
    {
     "name": "stdout",
     "output_type": "stream",
     "text": [
      "Type of the first element:  <class 'tuple'>\n",
      "The length of the tuple:  2\n",
      "The shape of the first element in the tuple:  torch.Size([1, 28, 28])\n",
      "The type of the first element in the tuple <class 'torch.Tensor'>\n",
      "The second element in the tuple:  5\n",
      "The type of the second element in the tuple:  <class 'int'>\n",
      "As the result, the structure of the first element in the dataset is (tensor([1, 28, 28]), tensor(7)).\n"
     ]
    }
   ],
   "source": [
    "print(\"Type of the first element: \", type(dataset[0]))\n",
    "print(\"The length of the tuple: \", len(dataset[0]))\n",
    "print(\"The shape of the first element in the tuple: \", dataset[0][0].shape)\n",
    "print(\"The type of the first element in the tuple\", type(dataset[0][0]))\n",
    "print(\"The second element in the tuple: \", dataset[0][1])\n",
    "print(\"The type of the second element in the tuple: \", type(dataset[0][1]))\n",
    "print(\"As the result, the structure of the first element in the dataset is (tensor([1, 28, 28]), tensor(7)).\")"
   ]
  }
 ],
 "metadata": {
  "kernelspec": {
   "display_name": "DL_env",
   "language": "python",
   "name": "python3"
  },
  "language_info": {
   "codemirror_mode": {
    "name": "ipython",
    "version": 3
   },
   "file_extension": ".py",
   "mimetype": "text/x-python",
   "name": "python",
   "nbconvert_exporter": "python",
   "pygments_lexer": "ipython3",
   "version": "3.10.18"
  }
 },
 "nbformat": 4,
 "nbformat_minor": 5
}
